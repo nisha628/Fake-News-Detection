{
 "cells": [
  {
   "cell_type": "code",
   "execution_count": 5,
   "id": "e1a5f290",
   "metadata": {
    "colab": {
     "base_uri": "https://localhost:8080/"
    },
    "id": "e1a5f290",
    "outputId": "fcd4a96d-fdb2-4200-a428-b5de0bcbf711"
   },
   "outputs": [
    {
     "name": "stdout",
     "output_type": "stream",
     "text": [
      "Requirement already satisfied: nltk in /usr/local/lib/python3.10/dist-packages (3.8.1)\n",
      "Requirement already satisfied: click in /usr/local/lib/python3.10/dist-packages (from nltk) (8.1.7)\n",
      "Requirement already satisfied: joblib in /usr/local/lib/python3.10/dist-packages (from nltk) (1.3.2)\n",
      "Requirement already satisfied: regex>=2021.8.3 in /usr/local/lib/python3.10/dist-packages (from nltk) (2023.6.3)\n",
      "Requirement already satisfied: tqdm in /usr/local/lib/python3.10/dist-packages (from nltk) (4.66.1)\n"
     ]
    }
   ],
   "source": [
    "!pip install nltk"
   ]
  },
  {
   "cell_type": "code",
   "execution_count": 6,
   "id": "b4c855e3",
   "metadata": {
    "id": "b4c855e3"
   },
   "outputs": [],
   "source": [
    "#necessary libraries\n",
    "import pandas as pd\n",
    "import numpy as np\n",
    "import re\n",
    "import matplotlib.pyplot as plt\n",
    "import seaborn as sns\n",
    "from nltk.corpus import stopwords\n",
    "from nltk.stem import PorterStemmer\n",
    "from sklearn.model_selection import train_test_split, cross_val_score\n",
    "from sklearn.feature_extraction.text import TfidfVectorizer\n",
    "from sklearn.feature_extraction.text import CountVectorizer\n",
    "from sklearn.feature_extraction.text import TfidfTransformer\n",
    "\n",
    "from sklearn.linear_model import LogisticRegression\n",
    "from sklearn.svm import LinearSVC\n",
    "from sklearn.tree import DecisionTreeClassifier\n",
    "from sklearn.ensemble import RandomForestClassifier\n",
    "from sklearn.neighbors import KNeighborsClassifier\n",
    "from sklearn.naive_bayes import MultinomialNB\n",
    "from sklearn.metrics import confusion_matrix, classification_report, roc_curve, auc, RocCurveDisplay"
   ]
  },
  {
   "cell_type": "markdown",
   "id": "Z3CqK-zmne5U",
   "metadata": {
    "id": "Z3CqK-zmne5U"
   },
   "source": [
    "Mounting Google drive to access the dataset\n"
   ]
  },
  {
   "cell_type": "code",
   "execution_count": 7,
   "id": "7B_HMhdz00RV",
   "metadata": {
    "colab": {
     "base_uri": "https://localhost:8080/"
    },
    "id": "7B_HMhdz00RV",
    "outputId": "8cb1fcf7-09f9-40c7-d542-da5dfc726ed9"
   },
   "outputs": [
    {
     "name": "stdout",
     "output_type": "stream",
     "text": [
      "Mounted at /content/drive\n"
     ]
    }
   ],
   "source": [
    "from google.colab import drive\n",
    "\n",
    "drive.mount('/content/drive')\n"
   ]
  },
  {
   "cell_type": "code",
   "execution_count": 8,
   "id": "nbxXD3de16mE",
   "metadata": {
    "colab": {
     "base_uri": "https://localhost:8080/"
    },
    "id": "nbxXD3de16mE",
    "outputId": "15e2cedf-fb59-4edc-c3e8-6522029ecc07"
   },
   "outputs": [
    {
     "name": "stderr",
     "output_type": "stream",
     "text": [
      "[nltk_data] Downloading package stopwords to /root/nltk_data...\n",
      "[nltk_data]   Unzipping corpora/stopwords.zip.\n"
     ]
    },
    {
     "data": {
      "text/plain": [
       "True"
      ]
     },
     "execution_count": 8,
     "metadata": {},
     "output_type": "execute_result"
    }
   ],
   "source": [
    "import nltk\n",
    "nltk.download('stopwords')"
   ]
  },
  {
   "cell_type": "code",
   "execution_count": 9,
   "id": "DipS2NIxMMIf",
   "metadata": {
    "colab": {
     "base_uri": "https://localhost:8080/"
    },
    "id": "DipS2NIxMMIf",
    "outputId": "5b7d09af-871f-41a6-b5ea-7692b9b0a292"
   },
   "outputs": [
    {
     "name": "stdout",
     "output_type": "stream",
     "text": [
      "['i', 'me', 'my', 'myself', 'we', 'our', 'ours', 'ourselves', 'you', \"you're\", \"you've\", \"you'll\", \"you'd\", 'your', 'yours', 'yourself', 'yourselves', 'he', 'him', 'his', 'himself', 'she', \"she's\", 'her', 'hers', 'herself', 'it', \"it's\", 'its', 'itself', 'they', 'them', 'their', 'theirs', 'themselves', 'what', 'which', 'who', 'whom', 'this', 'that', \"that'll\", 'these', 'those', 'am', 'is', 'are', 'was', 'were', 'be', 'been', 'being', 'have', 'has', 'had', 'having', 'do', 'does', 'did', 'doing', 'a', 'an', 'the', 'and', 'but', 'if', 'or', 'because', 'as', 'until', 'while', 'of', 'at', 'by', 'for', 'with', 'about', 'against', 'between', 'into', 'through', 'during', 'before', 'after', 'above', 'below', 'to', 'from', 'up', 'down', 'in', 'out', 'on', 'off', 'over', 'under', 'again', 'further', 'then', 'once', 'here', 'there', 'when', 'where', 'why', 'how', 'all', 'any', 'both', 'each', 'few', 'more', 'most', 'other', 'some', 'such', 'no', 'nor', 'not', 'only', 'own', 'same', 'so', 'than', 'too', 'very', 's', 't', 'can', 'will', 'just', 'don', \"don't\", 'should', \"should've\", 'now', 'd', 'll', 'm', 'o', 're', 've', 'y', 'ain', 'aren', \"aren't\", 'couldn', \"couldn't\", 'didn', \"didn't\", 'doesn', \"doesn't\", 'hadn', \"hadn't\", 'hasn', \"hasn't\", 'haven', \"haven't\", 'isn', \"isn't\", 'ma', 'mightn', \"mightn't\", 'mustn', \"mustn't\", 'needn', \"needn't\", 'shan', \"shan't\", 'shouldn', \"shouldn't\", 'wasn', \"wasn't\", 'weren', \"weren't\", 'won', \"won't\", 'wouldn', \"wouldn't\"]\n"
     ]
    }
   ],
   "source": [
    "print (stopwords.words('english'))"
   ]
  },
  {
   "cell_type": "code",
   "execution_count": 10,
   "id": "e01c88e4",
   "metadata": {
    "id": "e01c88e4"
   },
   "outputs": [],
   "source": [
    "#load train data\n",
    "train_data = pd.read_csv('/content/drive/MyDrive/fake_news_data/train.csv')"
   ]
  },
  {
   "cell_type": "code",
   "execution_count": 11,
   "id": "966670df",
   "metadata": {
    "id": "966670df"
   },
   "outputs": [],
   "source": [
    "#load testing data\n",
    "test_data = pd.read_csv('/content/drive/MyDrive/fake_news_data/test.csv')"
   ]
  },
  {
   "cell_type": "code",
   "execution_count": 12,
   "id": "6975eb2e",
   "metadata": {
    "colab": {
     "base_uri": "https://localhost:8080/"
    },
    "id": "6975eb2e",
    "outputId": "99a9ce8f-9bf1-49d7-c8ff-cd37cc7632c7"
   },
   "outputs": [
    {
     "name": "stdout",
     "output_type": "stream",
     "text": [
      "<class 'pandas.core.frame.DataFrame'>\n",
      "RangeIndex: 20800 entries, 0 to 20799\n",
      "Data columns (total 5 columns):\n",
      " #   Column  Non-Null Count  Dtype \n",
      "---  ------  --------------  ----- \n",
      " 0   id      20800 non-null  int64 \n",
      " 1   title   20242 non-null  object\n",
      " 2   author  18843 non-null  object\n",
      " 3   text    20761 non-null  object\n",
      " 4   label   20800 non-null  int64 \n",
      "dtypes: int64(2), object(3)\n",
      "memory usage: 812.6+ KB\n",
      "None\n"
     ]
    }
   ],
   "source": [
    "#EDA\n",
    "print(train_data.info())"
   ]
  },
  {
   "cell_type": "code",
   "execution_count": 13,
   "id": "84875cae",
   "metadata": {
    "colab": {
     "base_uri": "https://localhost:8080/"
    },
    "id": "84875cae",
    "outputId": "ab9a538f-4f82-47c7-ced8-1bc5f351f8bb"
   },
   "outputs": [
    {
     "data": {
      "text/plain": [
       "id           0\n",
       "title      558\n",
       "author    1957\n",
       "text        39\n",
       "label        0\n",
       "dtype: int64"
      ]
     },
     "execution_count": 13,
     "metadata": {},
     "output_type": "execute_result"
    }
   ],
   "source": [
    "# check for null values in the training dataset\n",
    "train_data.isnull().sum()\n"
   ]
  },
  {
   "cell_type": "code",
   "execution_count": 14,
   "id": "9d5d5db2",
   "metadata": {
    "id": "9d5d5db2"
   },
   "outputs": [],
   "source": [
    "# replacing the null values with empty string\n",
    "train_data = train_data.fillna(' ')\n",
    "test_data = test_data.fillna(' ')"
   ]
  },
  {
   "cell_type": "code",
   "execution_count": 15,
   "id": "Fhape30lhFHL",
   "metadata": {
    "id": "Fhape30lhFHL"
   },
   "outputs": [],
   "source": [
    "# merging the author name and news title\n",
    "train_data['content'] = train_data['author']+' '+train_data['title']\n",
    "test_data['content'] = test_data['author']+' '+test_data['title']"
   ]
  },
  {
   "cell_type": "code",
   "execution_count": 16,
   "id": "ONWBHu5ohFHL",
   "metadata": {
    "colab": {
     "base_uri": "https://localhost:8080/"
    },
    "id": "ONWBHu5ohFHL",
    "outputId": "aa2c1989-f825-4dbd-bc2c-e625323e0b44"
   },
   "outputs": [
    {
     "name": "stdout",
     "output_type": "stream",
     "text": [
      "0        Darrell Lucus House Dem Aide: We Didn’t Even S...\n",
      "1        Daniel J. Flynn FLYNN: Hillary Clinton, Big Wo...\n",
      "2        Consortiumnews.com Why the Truth Might Get You...\n",
      "3        Jessica Purkiss 15 Civilians Killed In Single ...\n",
      "4        Howard Portnoy Iranian woman jailed for fictio...\n",
      "                               ...                        \n",
      "20795    Jerome Hudson Rapper T.I.: Trump a ’Poster Chi...\n",
      "20796    Benjamin Hoffman N.F.L. Playoffs: Schedule, Ma...\n",
      "20797    Michael J. de la Merced and Rachel Abrams Macy...\n",
      "20798    Alex Ansary NATO, Russia To Hold Parallel Exer...\n",
      "20799              David Swanson What Keeps the F-35 Alive\n",
      "Name: content, Length: 20800, dtype: object\n"
     ]
    }
   ],
   "source": [
    "print(train_data['content'])"
   ]
  },
  {
   "cell_type": "code",
   "execution_count": 17,
   "id": "GlYEjcZ-hFHL",
   "metadata": {
    "colab": {
     "base_uri": "https://localhost:8080/"
    },
    "id": "GlYEjcZ-hFHL",
    "outputId": "afba1693-b524-4185-d359-d4d5b0c1b218",
    "scrolled": true
   },
   "outputs": [
    {
     "name": "stdout",
     "output_type": "stream",
     "text": [
      "0       David Streitfeld Specter of Trump Loosens Tong...\n",
      "1         Russian warships ready to strike terrorists ...\n",
      "2       Common Dreams #NoDAPL: Native American Leaders...\n",
      "3       Daniel Victor Tim Tebow Will Attempt Another C...\n",
      "4       Truth Broadcast Network Keiser Report: Meme Wa...\n",
      "                              ...                        \n",
      "5195    Jody Rosen The Bangladeshi Traffic Jam That Ne...\n",
      "5196    Sheryl Gay Stolberg John Kasich Signs One Abor...\n",
      "5197    Mike McPhate California Today: What, Exactly, ...\n",
      "5198      300 US Marines To Be Deployed To Russian Bor...\n",
      "5199    Teddy Wayne Awkward Sex, Onscreen and Off - Th...\n",
      "Name: content, Length: 5200, dtype: object\n"
     ]
    }
   ],
   "source": [
    "print(test_data['content'])"
   ]
  },
  {
   "cell_type": "code",
   "execution_count": 18,
   "id": "b2ae3d9c",
   "metadata": {
    "colab": {
     "base_uri": "https://localhost:8080/"
    },
    "id": "b2ae3d9c",
    "outputId": "a1d764a2-8b11-4a01-8ef6-18d43f7ab9e0"
   },
   "outputs": [
    {
     "name": "stdout",
     "output_type": "stream",
     "text": [
      "1    10413\n",
      "0    10387\n",
      "Name: label, dtype: int64\n"
     ]
    }
   ],
   "source": [
    "# Display the count of each label\n",
    "print(train_data['label'].value_counts())"
   ]
  },
  {
   "cell_type": "code",
   "execution_count": 19,
   "id": "6cef1232",
   "metadata": {
    "colab": {
     "base_uri": "https://localhost:8080/"
    },
    "id": "6cef1232",
    "outputId": "84726001-6e65-4aca-879e-786cc0a66c5c"
   },
   "outputs": [
    {
     "name": "stdout",
     "output_type": "stream",
     "text": [
      "int64\n"
     ]
    }
   ],
   "source": [
    "print(train_data['label'].dtype)\n"
   ]
  },
  {
   "cell_type": "code",
   "execution_count": 20,
   "id": "d53d7b27",
   "metadata": {
    "id": "d53d7b27"
   },
   "outputs": [],
   "source": [
    "train_data['label'] = train_data['label'].astype(int)\n"
   ]
  },
  {
   "cell_type": "code",
   "execution_count": 21,
   "id": "0f0aa59d",
   "metadata": {
    "colab": {
     "base_uri": "https://localhost:8080/",
     "height": 789
    },
    "id": "0f0aa59d",
    "outputId": "ed479d98-e515-4f7a-b21a-22ae9c8ce7ba"
   },
   "outputs": [
    {
     "name": "stdout",
     "output_type": "stream",
     "text": [
      "<class 'pandas.core.frame.DataFrame'>\n",
      "RangeIndex: 20800 entries, 0 to 20799\n",
      "Data columns (total 6 columns):\n",
      " #   Column   Non-Null Count  Dtype \n",
      "---  ------   --------------  ----- \n",
      " 0   id       20800 non-null  int64 \n",
      " 1   title    20800 non-null  object\n",
      " 2   author   20800 non-null  object\n",
      " 3   text     20800 non-null  object\n",
      " 4   label    20800 non-null  int64 \n",
      " 5   content  20800 non-null  object\n",
      "dtypes: int64(2), object(4)\n",
      "memory usage: 975.1+ KB\n",
      "None\n"
     ]
    },
    {
     "data": {
      "image/png": "[encoded data removed]",
      "text/plain": [
       "<Figure size 800x600 with 1 Axes>"
      ]
     },
     "metadata": {},
     "output_type": "display_data"
    }
   ],
   "source": [
    "# display information after handling null values\n",
    "print(train_data.info())\n",
    "\n",
    "plt.figure(figsize=(8, 6))\n",
    "train_data['label'].value_counts().plot(kind='bar')\n",
    "plt.title('Distribution of Labels in Training Dataset')\n",
    "plt.show()\n"
   ]
  },
  {
   "cell_type": "markdown",
   "id": "QVb3DaKnnwUu",
   "metadata": {
    "id": "QVb3DaKnnwUu"
   },
   "source": [
    "\n",
    "## Stemming"
   ]
  },
  {
   "cell_type": "code",
   "execution_count": 22,
   "id": "dd00d7a6",
   "metadata": {
    "id": "dd00d7a6"
   },
   "outputs": [],
   "source": [
    "# implement stemming for the training dataset\n",
    "stemmer = PorterStemmer()\n",
    "stop_words = set(stopwords.words('english'))\n",
    "\n",
    "def preprocess_text(content):\n",
    "    text = re.sub('[^a-zA-Z]', ' ', content)\n",
    "    text = text.lower().split()\n",
    "    text = [stemmer.stem(word) for word in text if word not in stop_words]\n",
    "    return ' '.join(text)\n",
    "\n",
    "train_data['content'] = train_data['content'].apply(preprocess_text)\n",
    "test_data['content'] = test_data['content'].apply(preprocess_text)\n"
   ]
  },
  {
   "cell_type": "code",
   "execution_count": 23,
   "id": "7nULT6aX8ORX",
   "metadata": {
    "id": "7nULT6aX8ORX"
   },
   "outputs": [],
   "source": [
    "#separating the data and label\n",
    "X = train_data['content'].values\n",
    "Y = train_data['label'].values"
   ]
  },
  {
   "cell_type": "markdown",
   "id": "WHl6Ar1IoJyv",
   "metadata": {
    "id": "WHl6Ar1IoJyv"
   },
   "source": [
    "Converting textual data into numerical format that can be used for classification"
   ]
  },
  {
   "cell_type": "code",
   "execution_count": 24,
   "id": "m95FQczV8UTM",
   "metadata": {
    "id": "m95FQczV8UTM"
   },
   "outputs": [],
   "source": [
    "transformer = TfidfTransformer(smooth_idf=False)\n",
    "count_vectorizer = CountVectorizer(ngram_range=(1, 2))\n",
    "counts = count_vectorizer.fit_transform(train_data['content'].values)\n",
    "X = transformer.fit_transform(counts)"
   ]
  },
  {
   "cell_type": "code",
   "execution_count": 25,
   "id": "RwZXfEKx8XQ3",
   "metadata": {
    "colab": {
     "base_uri": "https://localhost:8080/"
    },
    "id": "RwZXfEKx8XQ3",
    "outputId": "28ef553f-3b47-4311-83bb-709aa0aad965"
   },
   "outputs": [
    {
     "name": "stderr",
     "output_type": "stream",
     "text": [
      "/usr/local/lib/python3.10/dist-packages/sklearn/feature_extraction/text.py:1682: RuntimeWarning: divide by zero encountered in divide\n",
      "  idf = np.log(n_samples / df) + 1\n"
     ]
    }
   ],
   "source": [
    "Y = train_data['label'].values\n",
    "test_counts = count_vectorizer.transform(test_data['content'].values)\n",
    "test_tfidf = transformer.fit_transform(test_counts)"
   ]
  },
  {
   "cell_type": "markdown",
   "id": "58JUqmiPoSPP",
   "metadata": {
    "id": "58JUqmiPoSPP"
   },
   "source": [
    "Splitting the training data"
   ]
  },
  {
   "cell_type": "code",
   "execution_count": 26,
   "id": "d500eb0a",
   "metadata": {
    "id": "d500eb0a"
   },
   "outputs": [],
   "source": [
    "X_train, X_test, Y_train, Y_test = train_test_split(X, Y, test_size = 0.2, stratify=Y, random_state=42)"
   ]
  },
  {
   "cell_type": "code",
   "execution_count": 27,
   "id": "dNXGKqfcchCw",
   "metadata": {
    "id": "dNXGKqfcchCw"
   },
   "outputs": [],
   "source": [
    "#initializing the models\n",
    "models = {\n",
    "    'Logistic Regression': LogisticRegression(),\n",
    "    'SVM': LinearSVC(),\n",
    "    'Decision Tree': DecisionTreeClassifier(),\n",
    "    'Naive Bayes': MultinomialNB(),\n",
    "    #'Random Forest': RandomForestClassifier(),\n",
    "    'K-Nearest Neighbors': KNeighborsClassifier()\n",
    "\n",
    "}"
   ]
  },
  {
   "cell_type": "markdown",
   "id": "clBjOFdAo6hX",
   "metadata": {
    "id": "clBjOFdAo6hX"
   },
   "source": [
    "Functions to provide a comprehensive overview of a model's performance"
   ]
  },
  {
   "cell_type": "code",
   "execution_count": 28,
   "id": "af5c4c19",
   "metadata": {
    "id": "af5c4c19"
   },
   "outputs": [],
   "source": [
    "def kfolds(model, model_name):\n",
    "    model = cross_val_score(model, X,Y, cv=10)\n",
    "    model_score = np.average(model)\n",
    "    print(f\"{model_name} score on cross validation: {model_score * 100}%\")\n",
    "\n",
    "def conf_matrix(model):\n",
    "    Y_pred = model.predict(X_test)\n",
    "    cm = confusion_matrix(Y_test, Y_pred)\n",
    "    plt.figure(figsize=(8,5))\n",
    "    sns.heatmap(cm, annot=True, fmt='.2f');\n",
    "\n",
    "def class_report(model):\n",
    "    Y_pred = model.predict(X_test)\n",
    "    print(classification_report(Y_test, Y_pred))\n",
    "\n",
    "def roc(model, model_name):\n",
    "    Y_pred_svm = model.decision_function(X_test)\n",
    "    svm_fpr, svm_tpr, _ = roc_curve(Y_test, Y_pred_svm)\n",
    "    auc_svm = auc(svm_fpr, svm_tpr)\n",
    "    plt.figure(figsize=(5, 5), dpi=100)\n",
    "    plt.plot(svm_fpr, svm_tpr, color=\"darkorange\", label=f'{model_name} (auc = %0.3f)' % auc_svm)\n",
    "    plt.plot([0, 1], [0, 1], color=\"navy\", lw=2, linestyle=\"--\")\n",
    "    plt.xlabel('False Positive Rate -->')\n",
    "    plt.ylabel('True Positive Rate -->')\n",
    "    plt.legend()\n",
    "    plt.show()"
   ]
  },
  {
   "cell_type": "markdown",
   "id": "RIFrbOtypGer",
   "metadata": {
    "id": "RIFrbOtypGer"
   },
   "source": [
    "Training each model"
   ]
  },
  {
   "cell_type": "code",
   "execution_count": 29,
   "id": "cuW-UHwf0uL_",
   "metadata": {
    "colab": {
     "base_uri": "https://localhost:8080/",
     "height": 1000
    },
    "id": "cuW-UHwf0uL_",
    "outputId": "990d42f6-52b6-4bda-8c89-20586ea6c153"
   },
   "outputs": [
    {
     "name": "stdout",
     "output_type": "stream",
     "text": [
      "Training Logistic Regression...\n",
      "Logistic Regression score on cross validation: 97.47115384615384%\n",
      "Logistic Regression model score on Training data: 99.03245192307692%\n",
      "Logistic Regression model score on Testing data: 96.875%\n",
      "              precision    recall  f1-score   support\n",
      "\n",
      "           0       0.99      0.94      0.97      2077\n",
      "           1       0.95      0.99      0.97      2083\n",
      "\n",
      "    accuracy                           0.97      4160\n",
      "   macro avg       0.97      0.97      0.97      4160\n",
      "weighted avg       0.97      0.97      0.97      4160\n",
      "\n",
      "Training SVM...\n",
      "SVM score on cross validation: 99.25480769230768%\n",
      "SVM model score on Training data: 100.0%\n",
      "SVM model score on Testing data: 98.84615384615385%\n",
      "              precision    recall  f1-score   support\n",
      "\n",
      "           0       0.99      0.98      0.99      2077\n",
      "           1       0.98      0.99      0.99      2083\n",
      "\n",
      "    accuracy                           0.99      4160\n",
      "   macro avg       0.99      0.99      0.99      4160\n",
      "weighted avg       0.99      0.99      0.99      4160\n",
      "\n",
      "Training Decision Tree...\n",
      "Decision Tree score on cross validation: 99.58173076923077%\n",
      "Decision Tree model score on Training data: 100.0%\n",
      "Decision Tree model score on Testing data: 99.35096153846153%\n",
      "              precision    recall  f1-score   support\n",
      "\n",
      "           0       1.00      0.99      0.99      2077\n",
      "           1       0.99      1.00      0.99      2083\n",
      "\n",
      "    accuracy                           0.99      4160\n",
      "   macro avg       0.99      0.99      0.99      4160\n",
      "weighted avg       0.99      0.99      0.99      4160\n",
      "\n",
      "Training Naive Bayes...\n",
      "Naive Bayes score on cross validation: 96.43750000000001%\n",
      "Naive Bayes model score on Training data: 99.609375%\n",
      "Naive Bayes model score on Testing data: 96.32211538461539%\n",
      "              precision    recall  f1-score   support\n",
      "\n",
      "           0       0.93      1.00      0.96      2077\n",
      "           1       1.00      0.93      0.96      2083\n",
      "\n",
      "    accuracy                           0.96      4160\n",
      "   macro avg       0.97      0.96      0.96      4160\n",
      "weighted avg       0.97      0.96      0.96      4160\n",
      "\n",
      "Training K-Nearest Neighbors...\n",
      "K-Nearest Neighbors score on cross validation: 50.514423076923066%\n",
      "K-Nearest Neighbors model score on Training data: 50.61899038461538%\n",
      "K-Nearest Neighbors model score on Testing data: 50.33653846153846%\n",
      "              precision    recall  f1-score   support\n",
      "\n",
      "           0       1.00      0.01      0.01      2077\n",
      "           1       0.50      1.00      0.67      2083\n",
      "\n",
      "    accuracy                           0.50      4160\n",
      "   macro avg       0.75      0.50      0.34      4160\n",
      "weighted avg       0.75      0.50      0.34      4160\n",
      "\n"
     ]
    },
    {
     "data": {
      "image/png": "[encoded data removed]",
      "text/plain": [
       "<Figure size 800x500 with 2 Axes>"
      ]
     },
     "metadata": {},
     "output_type": "display_data"
    },
    {
     "data": {
      "image/png": "[encoded data removed]",
      "text/plain": [
       "<Figure size 800x500 with 2 Axes>"
      ]
     },
     "metadata": {},
     "output_type": "display_data"
    },
    {
     "data": {
      "image/png": "[encoded data removed]",
      "text/plain": [
       "<Figure size 800x500 with 2 Axes>"
      ]
     },
     "metadata": {},
     "output_type": "display_data"
    },
    {
     "data": {
      "image/png": "[encoded data removed]",
      "text/plain": [
       "<Figure size 800x500 with 2 Axes>"
      ]
     },
     "metadata": {},
     "output_type": "display_data"
    },
    {
     "data": {
      "image/png": "[encoded data removed]",
      "text/plain": [
       "<Figure size 800x500 with 2 Axes>"
      ]
     },
     "metadata": {},
     "output_type": "display_data"
    }
   ],
   "source": [
    "for model_name, model in models.items():\n",
    "    print(f\"Training {model_name}...\")\n",
    "    kfolds(model, model_name)\n",
    "    model.fit(X_train, Y_train)\n",
    "    model_train_score = model.score(X_train, Y_train)\n",
    "    model_test_score = model.score(X_test, Y_test)\n",
    "    print(f\"{model_name} model score on Training data: {model_train_score * 100}%\\n{model_name} model score on Testing data: {model_test_score * 100}%\")\n",
    "    conf_matrix(model)\n",
    "    class_report(model)\n",
    "\n"
   ]
  },
  {
   "cell_type": "markdown",
   "id": "bdmsDhdkpKq0",
   "metadata": {
    "id": "bdmsDhdkpKq0"
   },
   "source": [
    "Taking user input to check the accuracy of the models"
   ]
  },
  {
   "cell_type": "code",
   "execution_count": 30,
   "id": "gabtsqGaBJUS",
   "metadata": {
    "colab": {
     "base_uri": "https://localhost:8080/"
    },
    "id": "gabtsqGaBJUS",
    "outputId": "2ab8711d-0f9e-4a0b-f5ef-cb467d3a23aa"
   },
   "outputs": [
    {
     "name": "stdout",
     "output_type": "stream",
     "text": [
      "Enter the title of the news: Russian warships ready to strike terrorists near Aleppo\n",
      "Enter the author of the news: \n",
      "Enter the content of the news: Russian warships ready to strike terrorists near Aleppo 08.11.2016 | Source: Source: Mil.ru Attack aircraft of the Russian aircraft carrier Admiral Kuznetsov get ready to strike terrorists' positions in the vicinity of Aleppo, sources at the Russian Defense Ministry said, RBC reports. \"Insurgents' attempts to break into Aleppo from outside are meaningless,\" the source said. The main task of the aircraft carrier aviation group is to strike missile and air blows on the terrorists , whose goal is to enter Aleppo. \"After the attacks on terrorists' positions, one will have to forget about the support for insurgents from the outside,\" the source said. The Russian group in the Mediterranean Sea consists of the Admiral Kuznetsov aircraft carrier , the heavy nuclear missile cruiser Pyotr Velikiy (Peter the Great) and large anti-submarine ships Severomorsk and Vice-Admiral Kulakov. Russia has increased intelligence activities in Syria to establish the areas, where terrorists are concentrated, as well as the routes that they use to move from one area to another. \"The militants took advantage of the humanitarian pause and regrouped their forces to prepare for a new breakthrough into the eastern part of Aleppo,\" the source added. According to the source, Russia will use new weapons during the upcoming attacks on terrorists . It was said that the Russian warships in the Mediterranean Sea will launch \"Caliber\" cruise missiles, although it was not specified which ships would be responsible for the launches. Pravda.Ru Russian warships travel to Syria\n",
      "Prediction using Logistic Regression: Reliable\n",
      "Prediction using SVM: Reliable\n",
      "Prediction using Decision Tree: Reliable\n",
      "Prediction using Naive Bayes: Reliable\n",
      "Prediction using K-Nearest Neighbors: Reliable\n"
     ]
    },
    {
     "name": "stderr",
     "output_type": "stream",
     "text": [
      "/usr/local/lib/python3.10/dist-packages/sklearn/feature_extraction/text.py:1682: RuntimeWarning: divide by zero encountered in divide\n",
      "  idf = np.log(n_samples / df) + 1\n"
     ]
    }
   ],
   "source": [
    "import re\n",
    "def preprocess_input(title, author, content):\n",
    "    # Combine title, author, and content into one string\n",
    "    input_text = f\"{title} {author} {content}\"\n",
    "    stemmer = PorterStemmer()\n",
    "    # Apply stemming, lowercase, and remove stopwords\n",
    "    stemmed_input = re.sub('[^a-zA-Z]', ' ', input_text)\n",
    "    stemmed_input = stemmed_input.lower()\n",
    "    stemmed_input = stemmed_input.split()\n",
    "    stemmed_input = [stemmer.stem(word) for word in stemmed_input if not word in stopwords.words('english')]\n",
    "    stemmed_input = ' '.join(stemmed_input)\n",
    "\n",
    "    return stemmed_input\n",
    "\n",
    "# User input\n",
    "user_title = input(\"Enter the title of the news: \")\n",
    "user_author = input(\"Enter the author of the news: \")\n",
    "user_content = input(\"Enter the content of the news: \")\n",
    "\n",
    "# Preprocess the user input\n",
    "preprocessed_input = preprocess_input(user_title, user_author, user_content)\n",
    "\n",
    "# Vectorize the input\n",
    "user_counts = count_vectorizer.transform([preprocessed_input])\n",
    "user_tfidf = transformer.fit_transform(user_counts)\n",
    "\n",
    "# Make predictions\n",
    "for model_name, model in models.items():\n",
    "    prediction = model.predict(user_tfidf)\n",
    "    print(f\"Prediction using {model_name}: {'Reliable' if prediction[0] == 1 else 'Unreliable'}\")"
   ]
  }
 ],
 "metadata": {
  "accelerator": "GPU",
  "colab": {
   "gpuType": "T4",
   "provenance": []
  },
  "kernelspec": {
   "display_name": "Python 3 (ipykernel)",
   "language": "python",
   "name": "python3"
  },
  "language_info": {
   "codemirror_mode": {
    "name": "ipython",
    "version": 3
   },
   "file_extension": ".py",
   "mimetype": "text/x-python",
   "name": "python",
   "nbconvert_exporter": "python",
   "pygments_lexer": "ipython3",
   "version": "3.11.5"
  }
 },
 "nbformat": 4,
 "nbformat_minor": 5
}
